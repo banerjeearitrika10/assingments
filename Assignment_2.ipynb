{
  "nbformat": 4,
  "nbformat_minor": 0,
  "metadata": {
    "colab": {
      "name": "Assignment_2.ipynb",
      "provenance": []
    },
    "kernelspec": {
      "name": "python3",
      "display_name": "Python 3"
    }
  },
  "cells": [
    {
      "cell_type": "code",
      "metadata": {
        "colab": {
          "base_uri": "https://localhost:8080/"
        },
        "id": "9ZEB7bSVZPm2",
        "outputId": "66f20a57-0e90-466e-92f1-1d9491df3ae9"
      },
      "source": [
        "print(\"---GOOD MORNING---\")\r\n",
        "print(\"I AM THE PILOT OF THIS PLANE\")\r\n",
        "\r\n",
        "while True:\r\n",
        "\r\n",
        "  try:\r\n",
        "    altitude=int(input(\"\\nTHE ALTITUDE OF THE PLANE IS = \"))\r\n",
        "  except:\r\n",
        "    print(\"WRONG INPUT!TRY AGAIN----\")\r\n",
        "    altitude=int(input(\"\\nTHE ALTITUDE OF THE PLANE IS = \"))\r\n",
        "  if altitude==1000:\r\n",
        "    print(\"\\n SAFE TO LAND \")\r\n",
        "  elif altitude<1000 and altitude>0:\r\n",
        "    print(\"\\n LANDING THE PLANE \")\r\n",
        "  elif altitude>1000 and altitude<5000:\r\n",
        "    print(\"\\n BRING DOWN TO 1000ft\")\r\n",
        "  elif altitude>5000:\r\n",
        "    print(\"\\n TURN AROUND \")\r\n",
        "  elif altitude==0:\r\n",
        "    print(\"\\n  LANDED  \")\r\n",
        "    print(\"\\n--GOOD DAY--\\n--THANK YOU--\")\r\n",
        "    break\r\n",
        "    "
      ],
      "execution_count": 11,
      "outputs": [
        {
          "output_type": "stream",
          "text": [
            "---GOOD MORNING---\n",
            "I AM THE PILOT OF THIS PLANE\n",
            "\n",
            "THE ALTITUDE OF THE PLANE IS = 1000\n",
            "\n",
            " SAFE TO LAND \n",
            "\n",
            "THE ALTITUDE OF THE PLANE IS = 4500\n",
            "\n",
            " BRING DOWN TO 1000ft\n",
            "\n",
            "THE ALTITUDE OF THE PLANE IS = 6500\n",
            "\n",
            " TURN AROUND \n",
            "\n",
            "THE ALTITUDE OF THE PLANE IS = ten\n",
            "WRONG INPUT!TRY AGAIN----\n",
            "\n",
            "THE ALTITUDE OF THE PLANE IS = 0\n",
            "\n",
            "  LANDED  \n",
            "\n",
            "--GOOD DAY--\n",
            "--THANK YOU--\n"
          ],
          "name": "stdout"
        }
      ]
    }
  ]
}