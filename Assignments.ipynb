{
  "nbformat": 4,
  "nbformat_minor": 0,
  "metadata": {
    "colab": {
      "name": "Assignments.ipynb",
      "provenance": [],
      "collapsed_sections": []
    },
    "kernelspec": {
      "name": "python3",
      "display_name": "Python 3"
    }
  },
  "cells": [
    {
      "cell_type": "markdown",
      "metadata": {
        "id": "NrIiuuXFu6fy"
      },
      "source": [
        "QUESTION-1(LIST FUNCTIONS)\r\n",
        "\r\n",
        "\r\n",
        "---\r\n",
        "\r\n",
        "\r\n",
        "\r\n",
        "*   APPEND ,INSERT & EXTEND\r\n",
        "\r\n",
        "*   REMOVE , POP & DEL\r\n",
        "*   LEN , MAX ,MIN &SUM\r\n",
        "\r\n",
        "\r\n",
        "*   SPLIT & JOIN\r\n",
        "\r\n",
        "\r\n",
        "*   SORT & REVERSE\r\n",
        "\r\n",
        "\r\n",
        "\r\n"
      ]
    },
    {
      "cell_type": "markdown",
      "metadata": {
        "id": "KJWVisbY00Ju"
      },
      "source": [
        "\r\n",
        "\r\n",
        "1.1-   APPEND ,INSERT & EXTEND \r\n",
        "\r\n",
        "\r\n",
        "\r\n"
      ]
    },
    {
      "cell_type": "code",
      "metadata": {
        "colab": {
          "base_uri": "https://localhost:8080/"
        },
        "id": "Mz2CuIrV1ZeN",
        "outputId": "e3c46e56-e68c-4545-9298-314a813bbb04"
      },
      "source": [
        "a=['A','B','C','D']\r\n",
        "print(\"BEFORE = \",a)\r\n",
        "\r\n",
        "a.append('F')\r\n",
        "print(\"\\nAFTER = \",a)\r\n",
        "\r\n",
        "a.insert(4,'E')\r\n",
        "print(\"\\nAFTER INSERTING = \",a)\r\n",
        "\r\n",
        "b=['G','H','I','J']\r\n",
        "a.extend(b)\r\n",
        "print(\"\\nAFTER EXTENDING LIST a = \",a)\r\n",
        "\r\n",
        "#we can also concat two list by '+'\r\n",
        "c=['K','L']\r\n",
        "d=a+c\r\n",
        "print(\"\\nAFTER CONCATINATION OF LIST a & c = \",d)"
      ],
      "execution_count": null,
      "outputs": [
        {
          "output_type": "stream",
          "text": [
            "BEFORE =  ['A', 'B', 'C', 'D']\n",
            "\n",
            "AFTER =  ['A', 'B', 'C', 'D', 'F']\n",
            "\n",
            "AFTER INSERTING =  ['A', 'B', 'C', 'D', 'E', 'F']\n",
            "\n",
            "AFTER EXTENDING LIST a =  ['A', 'B', 'C', 'D', 'E', 'F', 'G', 'H', 'I', 'J']\n",
            "\n",
            "AFTER CONCATINATION OF LIST a & c =  ['A', 'B', 'C', 'D', 'E', 'F', 'G', 'H', 'I', 'J', 'K', 'L']\n"
          ],
          "name": "stdout"
        }
      ]
    },
    {
      "cell_type": "markdown",
      "metadata": {
        "id": "CQYdVHGq5-ko"
      },
      "source": [
        "1.2- REMOVE , POP ,DEL & CLEAR"
      ]
    },
    {
      "cell_type": "code",
      "metadata": {
        "colab": {
          "base_uri": "https://localhost:8080/"
        },
        "id": "Y-3qO8Te6Px4",
        "outputId": "a3ca01cb-a824-4945-f93a-2a7a00ed1c18"
      },
      "source": [
        "l=['Apple','Banana','Avocado','Cherries','Mango']\r\n",
        "print(\"BEFORE = \",l)\r\n",
        "\r\n",
        "l.remove('Banana')\r\n",
        "print(\"\\nAFTER REMOVING 'BANANA' = \",l)\r\n",
        "\r\n",
        "l.pop(3)\r\n",
        "print(\"\\nAFTER POPING FROM INDEX 3= \",l)\r\n",
        "\r\n",
        "del l[0]\r\n",
        "print(\"\\nAFTER DELETING FIRST ELEMENT = \",l)\r\n",
        "\r\n",
        "l.clear()\r\n",
        "print(\"\\nTHE LIST = \",l)\r\n"
      ],
      "execution_count": null,
      "outputs": [
        {
          "output_type": "stream",
          "text": [
            "BEFORE =  ['Apple', 'Banana', 'Avocado', 'Cherries', 'Mango']\n",
            "\n",
            "AFTER REMOVING 'BANANA' =  ['Apple', 'Avocado', 'Cherries', 'Mango']\n",
            "\n",
            "AFTER POPING FROM INDEX 3=  ['Apple', 'Avocado', 'Cherries']\n",
            "\n",
            "AFTER DELETING FIRST ELEMENT =  ['Avocado', 'Cherries']\n",
            "\n",
            "THE LIST =  []\n"
          ],
          "name": "stdout"
        }
      ]
    },
    {
      "cell_type": "markdown",
      "metadata": {
        "id": "BBtUnkkk9OiY"
      },
      "source": [
        "1.3-len , max ,min & sum"
      ]
    },
    {
      "cell_type": "code",
      "metadata": {
        "colab": {
          "base_uri": "https://localhost:8080/"
        },
        "id": "SqvNvz1G9YQ3",
        "outputId": "1746c29e-ee18-4786-9c8b-263dcc1d477e"
      },
      "source": [
        "lst=[10,20,100,200,3,2,1]\r\n",
        "print(\"BEFORE = \",lst)\r\n",
        "\r\n",
        "print(\"\\nTHE LENGTH OF THE LIST = \",len(lst))\r\n",
        "\r\n",
        "print(\"\\nTHE MAX ELEMENT IN THIS LIST = \",max(lst))\r\n",
        "\r\n",
        "print(\"\\nTHE MIN ELEMENT IN THIS LIST = \",min(lst))\r\n",
        "\r\n",
        "del lst[4:7]\r\n",
        "print(\"\\nTHE LIST = \",lst)\r\n",
        "\r\n",
        "print(\"\\nTHE SUM OF THE LIST = \",sum(lst))\r\n"
      ],
      "execution_count": null,
      "outputs": [
        {
          "output_type": "stream",
          "text": [
            "BEFORE =  [10, 20, 100, 200, 3, 2, 1]\n",
            "\n",
            "THE LENGTH OF THE LIST =  7\n",
            "\n",
            "THE MAX ELEMENT IN THIS LIST =  200\n",
            "\n",
            "THE MIN ELEMENT IN THIS LIST =  1\n",
            "\n",
            "THE LIST =  [10, 20, 100, 200]\n",
            "\n",
            "THE SUM OF THE LIST =  330\n"
          ],
          "name": "stdout"
        }
      ]
    },
    {
      "cell_type": "markdown",
      "metadata": {
        "id": "AYXML6xqAIzg"
      },
      "source": [
        "1.4-split & join"
      ]
    },
    {
      "cell_type": "code",
      "metadata": {
        "colab": {
          "base_uri": "https://localhost:8080/"
        },
        "id": "HMbefcfIAUF1",
        "outputId": "1a4edf81-360c-4cff-8ad7-4d6ec6aa4951"
      },
      "source": [
        "st='Hi my name is Aritrika'\r\n",
        "list1=st.split()\r\n",
        "print(\"list = \",list1)\r\n",
        "\r\n",
        "#we can use delimiters to specify \r\n",
        "st='Hi-my-name-is-Aritrika'\r\n",
        "list1=st.split('-')\r\n",
        "print(\"list_1= \",list1)\r\n",
        "\r\n",
        "lt=['Hey ','how are ','you','?']\r\n",
        "delimiter=''\r\n",
        "s=delimiter.join(lt)\r\n",
        "print(\"\\nAFTER JOINING = \",s)"
      ],
      "execution_count": null,
      "outputs": [
        {
          "output_type": "stream",
          "text": [
            "list =  ['Hi', 'my', 'name', 'is', 'Aritrika']\n",
            "list_1=  ['Hi', 'my', 'name', 'is', 'Aritrika']\n",
            "\n",
            "AFTER JOINING =  Hey how are you?\n"
          ],
          "name": "stdout"
        }
      ]
    },
    {
      "cell_type": "markdown",
      "metadata": {
        "id": "e3BmHvbrEYLt"
      },
      "source": [
        "1.5- sort & reverse "
      ]
    },
    {
      "cell_type": "code",
      "metadata": {
        "colab": {
          "base_uri": "https://localhost:8080/"
        },
        "id": "yTjkcZEuEWK9",
        "outputId": "68e9a291-438b-4ab4-d5ef-efd48a753f9f"
      },
      "source": [
        "l1=[3,7,56,90,5,170]\r\n",
        "print(\"\\nTHE GIVEN LIST = \",l1)\r\n",
        "\r\n",
        "l1.sort()\r\n",
        "print(\"\\nAFTER SORTING THE GIVEN LIST = \",l1)\r\n",
        "\r\n",
        "l1.reverse()\r\n",
        "print(\"\\nAFTER REVERSING THE GIVEN LIST = \",l1)"
      ],
      "execution_count": null,
      "outputs": [
        {
          "output_type": "stream",
          "text": [
            "\n",
            "THE GIVEN LIST =  [3, 7, 56, 90, 5, 170]\n",
            "\n",
            "AFTER SORTING THE GIVEN LIST =  [3, 5, 7, 56, 90, 170]\n",
            "\n",
            "AFTER REVERSING THE GIVEN LIST =  [170, 90, 56, 7, 5, 3]\n"
          ],
          "name": "stdout"
        }
      ]
    },
    {
      "cell_type": "markdown",
      "metadata": {
        "id": "3pbLf7ZoG46U"
      },
      "source": [
        "\r\n",
        "QUESTION-2(Dictionary’s Functions)\r\n",
        "\r\n",
        "---\r\n",
        "\r\n",
        "*   GET\r\n",
        "\r\n",
        "*   KEYS\r\n",
        "\r\n",
        "*   VALUES & ITEMS\r\n",
        "*   POP,DEL & CLEAR\r\n",
        "\r\n",
        "* COPY\r\n"
      ]
    },
    {
      "cell_type": "markdown",
      "metadata": {
        "id": "Ur9SHsnGrl18"
      },
      "source": [
        "2.1-GET & UPDATE"
      ]
    },
    {
      "cell_type": "code",
      "metadata": {
        "colab": {
          "base_uri": "https://localhost:8080/"
        },
        "id": "ezatO4ALrrJs",
        "outputId": "1b57f489-85a5-4c0d-cfde-523c7fe5a2d1"
      },
      "source": [
        "student={\r\n",
        "    'name':'Aritrika',\r\n",
        "    'age' :24,\r\n",
        "    'address':'Asansol'\r\n",
        "}\r\n",
        "print(student.get('age',25))\r\n",
        "\r\n",
        "s={\r\n",
        "    'college':'HITK'\r\n",
        "}\r\n",
        "\r\n",
        "student.update(s)\r\n",
        "print(student)"
      ],
      "execution_count": null,
      "outputs": [
        {
          "output_type": "stream",
          "text": [
            "24\n",
            "{'name': 'Aritrika', 'age': 24, 'address': 'Asansol', 'college': 'HITK'}\n"
          ],
          "name": "stdout"
        }
      ]
    },
    {
      "cell_type": "markdown",
      "metadata": {
        "id": "viuLiJxWwgyW"
      },
      "source": [
        "2.2-KEYS"
      ]
    },
    {
      "cell_type": "code",
      "metadata": {
        "colab": {
          "base_uri": "https://localhost:8080/"
        },
        "id": "e5VTUXHdwo-i",
        "outputId": "17b5485a-f70e-4357-a627-3019a32714fc"
      },
      "source": [
        "student={\r\n",
        "    'name':'Aritrika',\r\n",
        "    'age' :24,\r\n",
        "    'address':'asansol'\r\n",
        "}\r\n",
        "print(\"THE KEYS OF STUDENT IS = \",student.keys())"
      ],
      "execution_count": null,
      "outputs": [
        {
          "output_type": "stream",
          "text": [
            "THE KEYS OF STUDENT IS =  dict_keys(['name', 'age', 'address'])\n"
          ],
          "name": "stdout"
        }
      ]
    },
    {
      "cell_type": "markdown",
      "metadata": {
        "id": "o_Fap7aWyQhN"
      },
      "source": [
        "2.3-VALUES & ITEMS"
      ]
    },
    {
      "cell_type": "code",
      "metadata": {
        "colab": {
          "base_uri": "https://localhost:8080/"
        },
        "id": "nkjfK5UtyZFj",
        "outputId": "2698f9c4-ad77-48bf-d8ff-378b0961323b"
      },
      "source": [
        "student={\r\n",
        "    'name':'Aritrika',\r\n",
        "    'age' :24,\r\n",
        "    'address':'asansol'\r\n",
        "}\r\n",
        "print(\"values of the student dictionary is = \",student.values())\r\n",
        "print(\"attribute of the student dictionary is = \",student.items())"
      ],
      "execution_count": 8,
      "outputs": [
        {
          "output_type": "stream",
          "text": [
            "values of the student dictionary is =  dict_values(['Aritrika', 24, 'asansol'])\n",
            "attribute of the student dictionary is =  dict_items([('name', 'Aritrika'), ('age', 24), ('address', 'asansol')])\n"
          ],
          "name": "stdout"
        }
      ]
    },
    {
      "cell_type": "markdown",
      "metadata": {
        "id": "Rk3f0JD602ux"
      },
      "source": [
        "2.4-POP,DEL&CLEAR"
      ]
    },
    {
      "cell_type": "code",
      "metadata": {
        "id": "wgpvgR_Y1jJS",
        "colab": {
          "base_uri": "https://localhost:8080/"
        },
        "outputId": "11797b97-e4e3-405d-ca1e-84dc968923ef"
      },
      "source": [
        "student={\r\n",
        "    'class-1':{\r\n",
        "        'name':'Aritrika',\r\n",
        "        'age' :24,\r\n",
        "        'address':'asansol'\r\n",
        "    },\r\n",
        "    'class-2':{\r\n",
        "          'name':'Shalini',\r\n",
        "          'age' :24,\r\n",
        "          'address':'Burdwan'\r\n",
        "      }\r\n",
        "}\r\n",
        "del student['class-2']['address']\r\n",
        "print(\"After deleting =\",student)\r\n",
        "\r\n",
        "student.pop('class-1')\r\n",
        "print(\"After poping =\",student)\r\n",
        "\r\n",
        "student.clear()\r\n",
        "print(\"After clearing =\",student)"
      ],
      "execution_count": 16,
      "outputs": [
        {
          "output_type": "stream",
          "text": [
            "After deleting = {'class-1': {'name': 'Aritrika', 'age': 24, 'address': 'asansol'}, 'class-2': {'name': 'Shalini', 'age': 24}}\n",
            "After poping = {'class-2': {'name': 'Shalini', 'age': 24}}\n",
            "After clearing = {}\n"
          ],
          "name": "stdout"
        }
      ]
    },
    {
      "cell_type": "markdown",
      "metadata": {
        "id": "emvC-OWx4FDQ"
      },
      "source": [
        "2.5-COPY"
      ]
    },
    {
      "cell_type": "code",
      "metadata": {
        "id": "smw8xLBU4MI3",
        "colab": {
          "base_uri": "https://localhost:8080/"
        },
        "outputId": "e1584d34-0aa1-4ca0-8518-88e18b67cf21"
      },
      "source": [
        "st={\r\n",
        "    'name':'Aritrika',\r\n",
        "    'age' :24,\r\n",
        "    'address':'asansol'\r\n",
        "}\r\n",
        "st1=st.copy()\r\n",
        "print(\"THE NEW COPY =\",st1)"
      ],
      "execution_count": 17,
      "outputs": [
        {
          "output_type": "stream",
          "text": [
            "THE NEW COPY = {'name': 'Aritrika', 'age': 24, 'address': 'asansol'}\n"
          ],
          "name": "stdout"
        }
      ]
    }
  ]
}