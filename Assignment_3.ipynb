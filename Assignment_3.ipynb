{
  "nbformat": 4,
  "nbformat_minor": 0,
  "metadata": {
    "colab": {
      "name": "Assignment_3.ipynb",
      "provenance": [],
      "collapsed_sections": []
    },
    "kernelspec": {
      "name": "python3",
      "display_name": "Python 3"
    }
  },
  "cells": [
    {
      "cell_type": "markdown",
      "metadata": {
        "id": "zuFyeEaYa1rC"
      },
      "source": [
        "**To check weather the number is prime or not**"
      ]
    },
    {
      "cell_type": "code",
      "metadata": {
        "id": "JIiSSmsXasz6"
      },
      "source": [
        "import math\r\n",
        "def check_prime(n):\r\n",
        "  if n>1:\r\n",
        "    for i in range(2,math.floor(math.sqrt(n))+1):\r\n",
        "      if (n%i)==0:\r\n",
        "        print(\"(\",i,\"times\",n//i,\"is\",n,\") -- So\",end=\" \")\r\n",
        "        return False\r\n",
        "    else:\r\n",
        "      return True\r\n",
        "  else:\r\n",
        "    return False"
      ],
      "execution_count": 47,
      "outputs": []
    },
    {
      "cell_type": "code",
      "metadata": {
        "id": "uJFgQjFioNJP",
        "colab": {
          "base_uri": "https://localhost:8080/"
        },
        "outputId": "9484da14-a25e-4b10-f28b-f2c8c1597382"
      },
      "source": [
        "lst=[int(i) for i in input(\"PLEASE ENTER LIST OF NUMBERS := \").split()]\r\n",
        "count=0\r\n",
        "a=list()\r\n",
        "\r\n",
        "for j in lst:\r\n",
        "  if check_prime(j)==True:\r\n",
        "    print(j,\"IS PRIME\\n\")\r\n",
        "    count+=1\r\n",
        "    a.append(j)\r\n",
        "  else:\r\n",
        "    print(j,\"IS NOT PRIME\\n\")\r\n",
        "\r\n",
        "print(\"\\nIN THE LIST =\",lst)\r\n",
        "print(\"\\nTHE PRIME NUMBERS ARE =\",a,\"AND THE COUNT IS =\",count)\r\n",
        "\r\n",
        "\r\n",
        "\r\n",
        "  "
      ],
      "execution_count": 48,
      "outputs": [
        {
          "output_type": "stream",
          "text": [
            "PLEASE ENTER LIST OF NUMBERS := 1 2 3 4 5 6 7 8 9 10\n",
            "1 IS NOT PRIME\n",
            "\n",
            "2 IS PRIME\n",
            "\n",
            "3 IS PRIME\n",
            "\n",
            "( 2 times 2 is 4 ) -- So 4 IS NOT PRIME\n",
            "\n",
            "5 IS PRIME\n",
            "\n",
            "( 2 times 3 is 6 ) -- So 6 IS NOT PRIME\n",
            "\n",
            "7 IS PRIME\n",
            "\n",
            "( 2 times 4 is 8 ) -- So 8 IS NOT PRIME\n",
            "\n",
            "( 3 times 3 is 9 ) -- So 9 IS NOT PRIME\n",
            "\n",
            "( 2 times 5 is 10 ) -- So 10 IS NOT PRIME\n",
            "\n",
            "\n",
            "IN THE LIST = [1, 2, 3, 4, 5, 6, 7, 8, 9, 10]\n",
            "\n",
            "THE PRIME NUMBERS ARE = [2, 3, 5, 7] AND THE COUNT IS = 4\n"
          ],
          "name": "stdout"
        }
      ]
    }
  ]
}